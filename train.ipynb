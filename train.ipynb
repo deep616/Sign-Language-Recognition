{
 "cells": [
  {
   "cell_type": "code",
   "execution_count": 7,
   "metadata": {},
   "outputs": [],
   "source": [
    "from keras.models import Sequential\n",
    "from keras.layers import Convolution2D\n",
    "from keras.layers import MaxPooling2D\n",
    "from keras.layers import Flatten\n",
    "from keras.layers import Dense, Dropout\n",
    "\n",
    "\n",
    "import os\n"
   ]
  },
  {
   "cell_type": "code",
   "execution_count": 8,
   "metadata": {},
   "outputs": [
    {
     "name": "stdout",
     "output_type": "stream",
     "text": [
      "Model: \"sequential_1\"\n",
      "_________________________________________________________________\n",
      "Layer (type)                 Output Shape              Param #   \n",
      "=================================================================\n",
      "conv2d_2 (Conv2D)            (None, 126, 126, 32)      320       \n",
      "_________________________________________________________________\n",
      "max_pooling2d_2 (MaxPooling2 (None, 63, 63, 32)        0         \n",
      "_________________________________________________________________\n",
      "conv2d_3 (Conv2D)            (None, 61, 61, 32)        9248      \n",
      "_________________________________________________________________\n",
      "max_pooling2d_3 (MaxPooling2 (None, 30, 30, 32)        0         \n",
      "_________________________________________________________________\n",
      "flatten_1 (Flatten)          (None, 28800)             0         \n",
      "_________________________________________________________________\n",
      "dense_4 (Dense)              (None, 128)               3686528   \n",
      "_________________________________________________________________\n",
      "dropout_2 (Dropout)          (None, 128)               0         \n",
      "_________________________________________________________________\n",
      "dense_5 (Dense)              (None, 96)                12384     \n",
      "_________________________________________________________________\n",
      "dropout_3 (Dropout)          (None, 96)                0         \n",
      "_________________________________________________________________\n",
      "dense_6 (Dense)              (None, 64)                6208      \n",
      "_________________________________________________________________\n",
      "dense_7 (Dense)              (None, 26)                1690      \n",
      "=================================================================\n",
      "Total params: 3,716,378\n",
      "Trainable params: 3,716,378\n",
      "Non-trainable params: 0\n",
      "_________________________________________________________________\n"
     ]
    }
   ],
   "source": [
    "sz = 128\n",
    "\n",
    "classifier = Sequential()\n",
    "\n",
    "classifier.add(Convolution2D(32, (3, 3), input_shape=(sz, sz, 1), activation='relu'))\n",
    "classifier.add(MaxPooling2D(pool_size=(2, 2)))\n",
    "\n",
    "classifier.add(Convolution2D(32, (3, 3), activation='relu'))\n",
    "classifier.add(MaxPooling2D(pool_size=(2, 2)))\n",
    "\n",
    "\n",
    "classifier.add(Flatten())\n",
    "\n",
    "classifier.add(Dense(units=128, activation='relu'))\n",
    "classifier.add(Dropout(0.40))\n",
    "classifier.add(Dense(units=96, activation='relu'))\n",
    "classifier.add(Dropout(0.40))\n",
    "classifier.add(Dense(units=64, activation='relu'))\n",
    "classifier.add(Dense(units=26, activation='softmax')) \n",
    "\n",
    "\n",
    "classifier.compile(optimizer='adam', loss='categorical_crossentropy', metrics=['accuracy']) \n",
    "\n",
    "classifier.summary()"
   ]
  },
  {
   "cell_type": "code",
   "execution_count": 9,
   "metadata": {},
   "outputs": [],
   "source": [
    "from keras.preprocessing.image import ImageDataGenerator \n",
    "#Data Augmentation"
   ]
  },
  {
   "cell_type": "code",
   "execution_count": 10,
   "metadata": {},
   "outputs": [],
   "source": [
    "train_datagen = ImageDataGenerator(\n",
    "        rescale=1./255,\n",
    "        shear_range=0.2,\n",
    "        zoom_range=0.2,\n",
    "        horizontal_flip=True)\n",
    "\n",
    "test_datagen = ImageDataGenerator(rescale=1./255)"
   ]
  },
  {
   "cell_type": "code",
   "execution_count": 11,
   "metadata": {},
   "outputs": [
    {
     "name": "stdout",
     "output_type": "stream",
     "text": [
      "Found 12380 images belonging to 26 classes.\n",
      "Found 4114 images belonging to 26 classes.\n"
     ]
    }
   ],
   "source": [
    "training_set = train_datagen.flow_from_directory('data/train',\n",
    "                                                 target_size=(sz, sz),\n",
    "                                                 batch_size=1,\n",
    "                                                 color_mode='grayscale',\n",
    "                                                 class_mode='categorical')\n",
    "\n",
    "test_set = test_datagen.flow_from_directory('data/test',\n",
    "                                            target_size=(sz , sz),\n",
    "                                            batch_size=1,\n",
    "                                            color_mode='grayscale',\n",
    "                                            class_mode='categorical')"
   ]
  },
  {
   "cell_type": "code",
   "execution_count": 12,
   "metadata": {},
   "outputs": [
    {
     "name": "stderr",
     "output_type": "stream",
     "text": [
      "C:\\Users\\aeshi\\anaconda3\\lib\\site-packages\\keras\\engine\\training.py:1972: UserWarning: `Model.fit_generator` is deprecated and will be removed in a future version. Please use `Model.fit`, which supports generators.\n",
      "  warnings.warn('`Model.fit_generator` is deprecated and '\n"
     ]
    },
    {
     "name": "stdout",
     "output_type": "stream",
     "text": [
      "Epoch 1/10\n",
      "12380/12380 [==============================] - 260s 21ms/step - loss: 1.8576 - accuracy: 0.4168 - val_loss: 0.4164 - val_accuracy: 0.8469\n",
      "Epoch 2/10\n",
      "12380/12380 [==============================] - 295s 24ms/step - loss: 0.7536 - accuracy: 0.7493 - val_loss: 0.3606 - val_accuracy: 0.8680\n",
      "Epoch 3/10\n",
      "12380/12380 [==============================] - 329s 27ms/step - loss: 0.5268 - accuracy: 0.8286 - val_loss: 0.1370 - val_accuracy: 0.9531\n",
      "Epoch 4/10\n",
      "12380/12380 [==============================] - 318s 26ms/step - loss: 0.4499 - accuracy: 0.8600 - val_loss: 0.1336 - val_accuracy: 0.9577\n",
      "Epoch 5/10\n",
      "12380/12380 [==============================] - 322s 26ms/step - loss: 0.3903 - accuracy: 0.8833 - val_loss: 0.0448 - val_accuracy: 0.9871\n",
      "Epoch 6/10\n",
      "12380/12380 [==============================] - 314s 25ms/step - loss: 0.3524 - accuracy: 0.8947 - val_loss: 0.0355 - val_accuracy: 0.9883\n",
      "Epoch 7/10\n",
      "12380/12380 [==============================] - 316s 25ms/step - loss: 0.3345 - accuracy: 0.9045 - val_loss: 0.0558 - val_accuracy: 0.9803\n",
      "Epoch 8/10\n",
      "12380/12380 [==============================] - 470s 38ms/step - loss: 0.3158 - accuracy: 0.9097 - val_loss: 0.0330 - val_accuracy: 0.9905\n",
      "Epoch 9/10\n",
      "12380/12380 [==============================] - 564s 46ms/step - loss: 0.3147 - accuracy: 0.9113 - val_loss: 0.0420 - val_accuracy: 0.9869\n",
      "Epoch 10/10\n",
      "12380/12380 [==============================] - 301s 24ms/step - loss: 0.2962 - accuracy: 0.9191 - val_loss: 0.0190 - val_accuracy: 0.9947\n"
     ]
    },
    {
     "data": {
      "text/plain": [
       "<keras.callbacks.History at 0x1e7408d7250>"
      ]
     },
     "execution_count": 12,
     "metadata": {},
     "output_type": "execute_result"
    }
   ],
   "source": [
    "classifier.fit_generator(\n",
    "        training_set,\n",
    "        steps_per_epoch=12380, \n",
    "        epochs=10,\n",
    "        validation_data=test_set,\n",
    "        validation_steps=4114)"
   ]
  },
  {
   "cell_type": "code",
   "execution_count": null,
   "metadata": {},
   "outputs": [],
   "source": []
  }
 ],
 "metadata": {
  "kernelspec": {
   "display_name": "Python 3 (ipykernel)",
   "language": "python",
   "name": "python3"
  },
  "language_info": {
   "codemirror_mode": {
    "name": "ipython",
    "version": 3
   },
   "file_extension": ".py",
   "mimetype": "text/x-python",
   "name": "python",
   "nbconvert_exporter": "python",
   "pygments_lexer": "ipython3",
   "version": "3.9.6"
  }
 },
 "nbformat": 4,
 "nbformat_minor": 4
}
